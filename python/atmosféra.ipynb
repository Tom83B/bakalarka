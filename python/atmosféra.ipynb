{
 "metadata": {
  "name": "",
  "signature": "sha256:2107332de958ebea82ed74d2cabc5955f629ec848ce732c2d2b8e7e8795e0f04"
 },
 "nbformat": 3,
 "nbformat_minor": 0,
 "worksheets": [
  {
   "cells": [
    {
     "cell_type": "code",
     "collapsed": false,
     "input": [
      "import matplotlib.pyplot as plt\n",
      "%matplotlib inline\n",
      "import numpy as np\n",
      "from scipy.integrate import odeint\n",
      "from scipy.interpolate import UnivariateSpline as interp\n",
      "#import EOS\n",
      "import EOS as EOS\n",
      "from ext_data import g\n",
      "from const import *\n",
      "import pdb"
     ],
     "language": "python",
     "metadata": {},
     "outputs": [],
     "prompt_number": 1
    },
    {
     "cell_type": "code",
     "collapsed": false,
     "input": [
      "top = 0\n",
      "T_spot = 4000\n",
      "T_eff = [3500., 4000., 4500.]\n",
      "tau_top = 2./3.\n",
      "tau = np.linspace(0, tau_top, 50)\n",
      "T_atm = T_eff*(0.5*(1+tau*3./2.))**0.25\n",
      "T_atm = interp(tau, T_atm)\n",
      "\n",
      "def g_eff(T, P, z):\n",
      "    return g(z)-T_eff**4*sigma*EOS.opac(T, P, z)/c\n",
      "\n",
      "def atm_der(y,tau):\n",
      "        z, P = y\n",
      "        T = T_atm(tau)\n",
      "        return np.array([ 1./(EOS.opac(T, P, z)*EOS.rho(T, P, z)), g_eff(T, P, z)/EOS.opac(T, P, z) ])\n",
      "\n",
      "P0 = EOS.PofRho(T_spot, 1e-6)\n",
      "print P0\n",
      "pdb.set_trace()\n",
      "print EOS.rho(T_spot, P0, 0)\n",
      "pdb.set_trace()\n",
      "yinit = [ top, P0 ]\n",
      "atm = odeint(atm_der, yinit, tau)\n",
      "z = atm[:,0]\n",
      "P = atm[:,1]"
     ],
     "language": "python",
     "metadata": {},
     "outputs": [
      {
       "output_type": "stream",
       "stream": "stdout",
       "text": [
        "26.3790350674\n",
        "--Return--\n",
        "> <ipython-input-2-3c849e515250>(19)<module>()->None\n",
        "-> pdb.set_trace()\n"
       ]
      },
      {
       "name": "stdout",
       "output_type": "stream",
       "stream": "stdout",
       "text": [
        "(Pdb) c\n"
       ]
      },
      {
       "output_type": "stream",
       "stream": "stdout",
       "text": [
        "1.00000008274e-06\n",
        "--Return--\n",
        "> <ipython-input-2-3c849e515250>(21)<module>()->None\n",
        "-> pdb.set_trace()\n"
       ]
      },
      {
       "name": "stdout",
       "output_type": "stream",
       "stream": "stdout",
       "text": [
        "(Pdb) c\n"
       ]
      }
     ],
     "prompt_number": 2
    },
    {
     "cell_type": "code",
     "collapsed": false,
     "input": [
      "fig = plt.figure(figsize=(12,6), dpi=300)\n",
      "\n",
      "axes = fig.add_axes([0,0,1,1])\n",
      "\n",
      "m=0\n",
      "n=5000\n",
      "axes.plot(z, T_atm(tau), c='black')\n",
      "#axes.plot(z, ext.r(z), c='black', linestyle='dashed')\n",
      "axes.set_xlabel(\"$z\\ (\\mathrm{m})$\", fontsize=18)\n",
      "axes.set_ylabel(r\"$ T\\ \\mathrm{(K)} $\",fontsize=18)\n",
      "\n",
      "fig.savefig(\"T_atm.png\",bbox_inches='tight')"
     ],
     "language": "python",
     "metadata": {},
     "outputs": [
      {
       "metadata": {},
       "output_type": "display_data",
       "png": "[encoded data removed]",
       "text": [
        "<matplotlib.figure.Figure at 0x3c41fd0>"
       ]
      }
     ],
     "prompt_number": 3
    },
    {
     "cell_type": "code",
     "collapsed": false,
     "input": [
      "from EOS import opac"
     ],
     "language": "python",
     "metadata": {},
     "outputs": [],
     "prompt_number": 1
    },
    {
     "cell_type": "code",
     "collapsed": false,
     "input": [
      "opac(T, P, z)"
     ],
     "language": "python",
     "metadata": {},
     "outputs": [
      {
       "ename": "NameError",
       "evalue": "name 'T' is not defined",
       "output_type": "pyerr",
       "traceback": [
        "\u001b[1;31m---------------------------------------------------------------------------\u001b[0m\n\u001b[1;31mNameError\u001b[0m                                 Traceback (most recent call last)",
        "\u001b[1;32m<ipython-input-2-248e2b033fb3>\u001b[0m in \u001b[0;36m<module>\u001b[1;34m()\u001b[0m\n\u001b[1;32m----> 1\u001b[1;33m \u001b[0mopac\u001b[0m\u001b[1;33m(\u001b[0m\u001b[0mT\u001b[0m\u001b[1;33m,\u001b[0m \u001b[0mP\u001b[0m\u001b[1;33m,\u001b[0m \u001b[0mz\u001b[0m\u001b[1;33m)\u001b[0m\u001b[1;33m\u001b[0m\u001b[0m\n\u001b[0m",
        "\u001b[1;31mNameError\u001b[0m: name 'T' is not defined"
       ]
      }
     ],
     "prompt_number": 2
    },
    {
     "cell_type": "code",
     "collapsed": false,
     "input": [
      "from scipy import optimize\n",
      "optimize.newton(lambda r: EOS.PofRho(3500,r)-P0, 1e-9)"
     ],
     "language": "python",
     "metadata": {},
     "outputs": [
      {
       "metadata": {},
       "output_type": "pyout",
       "prompt_number": 5,
       "text": [
        "9.999999460093743e-06"
       ]
      }
     ],
     "prompt_number": 5
    },
    {
     "cell_type": "code",
     "collapsed": false,
     "input": [],
     "language": "python",
     "metadata": {},
     "outputs": []
    }
   ],
   "metadata": {}
  }
 ]
}