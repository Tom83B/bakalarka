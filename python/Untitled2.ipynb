{
 "metadata": {
  "name": "",
  "signature": "sha256:1e0a6476f924687af4bc202fa3a4aa5ef5a92d12e62d9c943ded3b6aab9bb298"
 },
 "nbformat": 3,
 "nbformat_minor": 0,
 "worksheets": [
  {
   "cells": [
    {
     "cell_type": "code",
     "collapsed": false,
     "input": [
      "execfile('isentropic_state.py')"
     ],
     "language": "python",
     "metadata": {},
     "outputs": [
      {
       "output_type": "stream",
       "stream": "stdout",
       "text": [
        "0.0127947 1774.27\n",
        "1e-10 1949.54\n",
        "7.60849e-08 1400.33\n",
        "3.80924e-08 1489.11\n",
        "1.90963e-08 1564.16\n",
        "9.59811e-09 1627.74\n",
        "4.84905e-09 1682.57\n",
        "2.47452e-09 1732.33\n",
        "1.28727e-09 1778.27\n",
        "1.88091e-09 1751.76\n",
        "1.58408e-09 1763.71\n",
        "1.43568e-09 1770.58\n",
        "1.36147e-09 1774.33\n",
        "1.39857e-09 1772.43\n",
        "1.38002e-09 1773.38\n",
        "1.37075e-09 1773.85\n",
        "1.36611e-09 1774.09\n",
        "1.36379e-09 1774.21\n",
        "1.36263e-09 1774.27\n",
        "1.36321e-09 1774.24\n",
        "1.36292e-09 1774.26\n",
        "1.36277e-09 1774.27\n",
        "> /home/tom/Documents/skola/bakalarka/python/isentropic_state.py(20)derivative()\n",
        "-> return ret\n"
       ]
      },
      {
       "name": "stdout",
       "output_type": "stream",
       "stream": "stdout",
       "text": [
        "(Pdb) ret\n"
       ]
      },
      {
       "output_type": "stream",
       "stream": "stdout",
       "text": [
        "1.4039266927290316e-06\n"
       ]
      },
      {
       "name": "stdout",
       "output_type": "stream",
       "stream": "stdout",
       "text": [
        "(Pdb) g\n"
       ]
      },
      {
       "output_type": "stream",
       "stream": "stdout",
       "text": [
        "<scipy.interpolate.fitpack2.InterpolatedUnivariateSpline object at 0x2a2dfd0>\n"
       ]
      },
      {
       "name": "stdout",
       "output_type": "stream",
       "stream": "stdout",
       "text": [
        "(Pdb) g(z)\n"
       ]
      },
      {
       "output_type": "stream",
       "stream": "stdout",
       "text": [
        "array(273.87678196380506)\n"
       ]
      },
      {
       "name": "stdout",
       "output_type": "stream",
       "stream": "stdout",
       "text": [
        "(Pdb) g(z)/gamma\n"
       ]
      },
      {
       "output_type": "stream",
       "stream": "stdout",
       "text": [
        "187.29085310601835\n"
       ]
      },
      {
       "name": "stdout",
       "output_type": "stream",
       "stream": "stdout",
       "text": [
        "(Pdb) rho\n"
       ]
      },
      {
       "output_type": "stream",
       "stream": "stdout",
       "text": [
        "5.8702088551639354e-06\n"
       ]
      },
      {
       "name": "stdout",
       "output_type": "stream",
       "stream": "stdout",
       "text": [
        "(Pdb) rho**(0.333)\n"
       ]
      },
      {
       "output_type": "stream",
       "stream": "stdout",
       "text": [
        "0.018111800808746123\n"
       ]
      },
      {
       "name": "stdout",
       "output_type": "stream",
       "stream": "stdout",
       "text": [
        "(Pdb) 200*0.02\n"
       ]
      },
      {
       "output_type": "stream",
       "stream": "stdout",
       "text": [
        "4.0\n"
       ]
      },
      {
       "name": "stdout",
       "output_type": "stream",
       "stream": "stdout",
       "text": [
        "(Pdb) S\n"
       ]
      },
      {
       "output_type": "stream",
       "stream": "stdout",
       "text": [
        "177426.66015625\n"
       ]
      }
     ]
    },
    {
     "cell_type": "code",
     "collapsed": false,
     "input": [],
     "language": "python",
     "metadata": {},
     "outputs": []
    }
   ],
   "metadata": {}
  }
 ]
}